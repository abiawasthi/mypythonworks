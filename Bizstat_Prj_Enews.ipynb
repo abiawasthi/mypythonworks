{
 "cells": [
  {
   "cell_type": "markdown",
   "metadata": {},
   "source": [
    "# Project Business Statistics: E-News Express\n",
    "\n"
   ]
  },
  {
   "cell_type": "markdown",
   "metadata": {},
   "source": [
    "### Context\n",
    "\n",
    "An online news portal aims to expand its business by acquiring new subscribers. Every visitor to the website takes certain actions based on their interest. The company plans to analyze these interests and wants to determine whether a new feature will be effective or not. Companies often analyze users' responses to two variants of a product to decide which of the two variants is more effective. This experimental technique is known as a/b testing that is used to determine whether a new feature attracts users based on a chosen metric.\n",
    "\n",
    "Suppose you are hired as a Data Scientist in E-news Express. The design team of the company has created a new landing page. You have been assigned the task to decide whether the new landing page is more effective to gather new subscribers. Suppose you randomly selected 100 users and divided them equally into two groups. The old landing page is served to the first group (control group) and the new landing page is served to the second group (treatment group). Various data about the customers in both groups are collected in 'abtest.csv'. Perform the statistical analysis to answer the following questions using the collected data.\n",
    "\n",
    "### Objective\n",
    "\n",
    "Statistical analysis of business data. Explore the dataset and extract insights from the data.\n",
    "\n",
    "We are performing the statistical analysis to answer the following questions:\n",
    "\n",
    ">1. Exploring the dataset and extract insights using Exploratory Data Analysis.\n",
    ">2. Do the users spend more time on the new landing page than the old landing page?\n",
    ">3. Is the conversion rate (the proportion of users who visit the landing page and get converted) for the new page greater than the conversion rate for the old page?\n",
    ">4. Does the converted status depend on the preferred language? [Hint: Create a contingency table using the pandas.crosstab() function]\n",
    ">5. Is the mean time spent on the new page same for the different language users?\n",
    "*Considering significance level of 0.05 for all tests.\n",
    "\n",
    "\n",
    "### Data Dictionary\n",
    "\n",
    ">1. user_id - This represents the user ID of the person visiting the website.\n",
    ">2. group - This represents whether the user belongs to the first group (control) or the second group (treatment).\n",
    ">3. landing_page - This represents whether the landing page is new or old.\n",
    ">4. time_spent_on_the_page - This represents the time (in minutes) spent by the user on the landing page.\n",
    ">5. converted - This represents whether the user gets converted to a subscriber of the news portal or not.\n",
    ">6. language_preferred - This represents the language chosen by the user to view the landing page."
   ]
  },
  {
   "cell_type": "markdown",
   "metadata": {},
   "source": [
    "### Let us start by importing the required libraries"
   ]
  },
  {
   "cell_type": "code",
   "execution_count": 1,
   "metadata": {},
   "outputs": [],
   "source": [
    "#importing the important packages\n",
    "import pandas as pd #library used for data manipulation and analysis\n",
    "import numpy as np # library used for working with arrays.\n",
    "import matplotlib.pyplot as plt # library for plots and visualisations\n",
    "import seaborn as sns # library for visualisations\n",
    "%matplotlib inline \n",
    "\n",
    "import scipy.stats as stats# this library contains a large number of probability distributions as well as a growing library of statistical functions.\n",
    "from statsmodels.stats.proportion import proportions_ztest\n",
    "from scipy.stats import chi2_contingency"
   ]
  },
  {
   "cell_type": "code",
   "execution_count": 2,
   "metadata": {},
   "outputs": [],
   "source": [
    "import warnings # code to remove any warning on the execution\n",
    "warnings.filterwarnings('ignore')"
   ]
  },
  {
   "cell_type": "markdown",
   "metadata": {},
   "source": [
    "### Understanding the structure of the data"
   ]
  },
  {
   "cell_type": "code",
   "execution_count": 3,
   "metadata": {
    "scrolled": true
   },
   "outputs": [
    {
     "data": {
      "text/html": [
       "<div>\n",
       "<style scoped>\n",
       "    .dataframe tbody tr th:only-of-type {\n",
       "        vertical-align: middle;\n",
       "    }\n",
       "\n",
       "    .dataframe tbody tr th {\n",
       "        vertical-align: top;\n",
       "    }\n",
       "\n",
       "    .dataframe thead th {\n",
       "        text-align: right;\n",
       "    }\n",
       "</style>\n",
       "<table border=\"1\" class=\"dataframe\">\n",
       "  <thead>\n",
       "    <tr style=\"text-align: right;\">\n",
       "      <th></th>\n",
       "      <th>user_id</th>\n",
       "      <th>group</th>\n",
       "      <th>landing_page</th>\n",
       "      <th>time_spent_on_the_page</th>\n",
       "      <th>converted</th>\n",
       "      <th>language_preferred</th>\n",
       "    </tr>\n",
       "  </thead>\n",
       "  <tbody>\n",
       "    <tr>\n",
       "      <th>0</th>\n",
       "      <td>546592</td>\n",
       "      <td>control</td>\n",
       "      <td>old</td>\n",
       "      <td>3.48</td>\n",
       "      <td>no</td>\n",
       "      <td>Spanish</td>\n",
       "    </tr>\n",
       "    <tr>\n",
       "      <th>1</th>\n",
       "      <td>546468</td>\n",
       "      <td>treatment</td>\n",
       "      <td>new</td>\n",
       "      <td>7.13</td>\n",
       "      <td>yes</td>\n",
       "      <td>English</td>\n",
       "    </tr>\n",
       "    <tr>\n",
       "      <th>2</th>\n",
       "      <td>546462</td>\n",
       "      <td>treatment</td>\n",
       "      <td>new</td>\n",
       "      <td>4.40</td>\n",
       "      <td>no</td>\n",
       "      <td>Spanish</td>\n",
       "    </tr>\n",
       "    <tr>\n",
       "      <th>3</th>\n",
       "      <td>546567</td>\n",
       "      <td>control</td>\n",
       "      <td>old</td>\n",
       "      <td>3.02</td>\n",
       "      <td>no</td>\n",
       "      <td>French</td>\n",
       "    </tr>\n",
       "    <tr>\n",
       "      <th>4</th>\n",
       "      <td>546459</td>\n",
       "      <td>treatment</td>\n",
       "      <td>new</td>\n",
       "      <td>4.75</td>\n",
       "      <td>yes</td>\n",
       "      <td>Spanish</td>\n",
       "    </tr>\n",
       "  </tbody>\n",
       "</table>\n",
       "</div>"
      ],
      "text/plain": [
       "   user_id      group landing_page  time_spent_on_the_page converted  \\\n",
       "0   546592    control          old                    3.48        no   \n",
       "1   546468  treatment          new                    7.13       yes   \n",
       "2   546462  treatment          new                    4.40        no   \n",
       "3   546567    control          old                    3.02        no   \n",
       "4   546459  treatment          new                    4.75       yes   \n",
       "\n",
       "  language_preferred  \n",
       "0            Spanish  \n",
       "1            English  \n",
       "2            Spanish  \n",
       "3             French  \n",
       "4            Spanish  "
      ]
     },
     "execution_count": 3,
     "metadata": {},
     "output_type": "execute_result"
    }
   ],
   "source": [
    "# read the data\n",
    "df = pd.read_csv('abtest.csv')\n",
    "# returns the first 5 rows\n",
    "df.head()"
   ]
  },
  {
   "cell_type": "markdown",
   "metadata": {},
   "source": [
    "###### Observations:\n",
    "\n",
    "The DataFrame has 6 columns as mentioned in the Data Dictionary. Data in each row gives information about users, their activities, time spent and preferences"
   ]
  },
  {
   "cell_type": "code",
   "execution_count": 4,
   "metadata": {},
   "outputs": [
    {
     "data": {
      "text/plain": [
       "(100, 6)"
      ]
     },
     "execution_count": 4,
     "metadata": {},
     "output_type": "execute_result"
    }
   ],
   "source": [
    "# code to find the data records of the dataset.\n",
    "df.shape"
   ]
  },
  {
   "cell_type": "markdown",
   "metadata": {},
   "source": [
    "#### Observations:\n",
    "The dataset consists of 100 records and 6 fields."
   ]
  },
  {
   "cell_type": "markdown",
   "metadata": {},
   "source": [
    "### observations based on the below output from the info() method."
   ]
  },
  {
   "cell_type": "code",
   "execution_count": 5,
   "metadata": {},
   "outputs": [
    {
     "name": "stdout",
     "output_type": "stream",
     "text": [
      "<class 'pandas.core.frame.DataFrame'>\n",
      "RangeIndex: 100 entries, 0 to 99\n",
      "Data columns (total 6 columns):\n",
      " #   Column                  Non-Null Count  Dtype  \n",
      "---  ------                  --------------  -----  \n",
      " 0   user_id                 100 non-null    int64  \n",
      " 1   group                   100 non-null    object \n",
      " 2   landing_page            100 non-null    object \n",
      " 3   time_spent_on_the_page  100 non-null    float64\n",
      " 4   converted               100 non-null    object \n",
      " 5   language_preferred      100 non-null    object \n",
      "dtypes: float64(1), int64(1), object(4)\n",
      "memory usage: 4.8+ KB\n"
     ]
    }
   ],
   "source": [
    "# use info() to print a concise summary of the DataFrame\n",
    "df.info()"
   ]
  },
  {
   "cell_type": "markdown",
   "metadata": {},
   "source": [
    "### Observations:\n",
    "The dataset does not have any null records. There are 4 columns of datatype object, 1 column of integer and 1 column of float. "
   ]
  },
  {
   "cell_type": "code",
   "execution_count": 6,
   "metadata": {},
   "outputs": [
    {
     "name": "stdout",
     "output_type": "stream",
     "text": [
      "<class 'pandas.core.frame.DataFrame'>\n",
      "RangeIndex: 100 entries, 0 to 99\n",
      "Data columns (total 6 columns):\n",
      " #   Column                  Non-Null Count  Dtype   \n",
      "---  ------                  --------------  -----   \n",
      " 0   user_id                 100 non-null    int64   \n",
      " 1   group                   100 non-null    category\n",
      " 2   landing_page            100 non-null    category\n",
      " 3   time_spent_on_the_page  100 non-null    float64 \n",
      " 4   converted               100 non-null    category\n",
      " 5   language_preferred      100 non-null    category\n",
      "dtypes: category(4), float64(1), int64(1)\n",
      "memory usage: 2.6 KB\n"
     ]
    }
   ],
   "source": [
    "# converting \"objects\" to \"category\" reduces the data space required to store the dataframe\n",
    "df['group'] = df['group'].astype('category')\n",
    "df['landing_page'] = df['landing_page'].astype('category')\n",
    "df['converted']= df['converted'].astype('category')\n",
    "df['language_preferred']= df['language_preferred'].astype('category')\n",
    "# use info() to print a concise summary of the DataFrame\n",
    "df.info()"
   ]
  },
  {
   "cell_type": "markdown",
   "metadata": {},
   "source": [
    "#### Observations:\n",
    "We changed datatype of the fields to category from object. This led to our memory usage reduction."
   ]
  },
  {
   "cell_type": "markdown",
   "metadata": {},
   "source": [
    "### code to find the summary statistics and write your observations based on that."
   ]
  },
  {
   "cell_type": "code",
   "execution_count": 7,
   "metadata": {},
   "outputs": [
    {
     "data": {
      "text/html": [
       "<div>\n",
       "<style scoped>\n",
       "    .dataframe tbody tr th:only-of-type {\n",
       "        vertical-align: middle;\n",
       "    }\n",
       "\n",
       "    .dataframe tbody tr th {\n",
       "        vertical-align: top;\n",
       "    }\n",
       "\n",
       "    .dataframe thead th {\n",
       "        text-align: right;\n",
       "    }\n",
       "</style>\n",
       "<table border=\"1\" class=\"dataframe\">\n",
       "  <thead>\n",
       "    <tr style=\"text-align: right;\">\n",
       "      <th></th>\n",
       "      <th>count</th>\n",
       "      <th>mean</th>\n",
       "      <th>std</th>\n",
       "      <th>min</th>\n",
       "      <th>25%</th>\n",
       "      <th>50%</th>\n",
       "      <th>75%</th>\n",
       "      <th>max</th>\n",
       "    </tr>\n",
       "  </thead>\n",
       "  <tbody>\n",
       "    <tr>\n",
       "      <th>user_id</th>\n",
       "      <td>100.0</td>\n",
       "      <td>546517.000</td>\n",
       "      <td>52.296</td>\n",
       "      <td>546443.00</td>\n",
       "      <td>546467.75</td>\n",
       "      <td>546492.500</td>\n",
       "      <td>546567.250</td>\n",
       "      <td>546592.00</td>\n",
       "    </tr>\n",
       "    <tr>\n",
       "      <th>time_spent_on_the_page</th>\n",
       "      <td>100.0</td>\n",
       "      <td>5.378</td>\n",
       "      <td>2.378</td>\n",
       "      <td>0.19</td>\n",
       "      <td>3.88</td>\n",
       "      <td>5.415</td>\n",
       "      <td>7.022</td>\n",
       "      <td>10.71</td>\n",
       "    </tr>\n",
       "  </tbody>\n",
       "</table>\n",
       "</div>"
      ],
      "text/plain": [
       "                        count        mean     std        min        25%  \\\n",
       "user_id                 100.0  546517.000  52.296  546443.00  546467.75   \n",
       "time_spent_on_the_page  100.0       5.378   2.378       0.19       3.88   \n",
       "\n",
       "                               50%         75%        max  \n",
       "user_id                 546492.500  546567.250  546592.00  \n",
       "time_spent_on_the_page       5.415       7.022      10.71  "
      ]
     },
     "execution_count": 7,
     "metadata": {},
     "output_type": "execute_result"
    }
   ],
   "source": [
    "# summary statistics\n",
    "df.describe().round(3).T"
   ]
  },
  {
   "cell_type": "markdown",
   "metadata": {},
   "source": [
    "#### Observations:\n",
    "We observe that average time spent on the page is 5.37 minutes. Most of the data of time spent lie between 5.4 minutes and 7 minutes as shown by $25^{th}$ and $75^{th}$ percentile.\n",
    "Average time spent in landing page is 5.3 minutes ranging from as high as 10.71 minutes to as low as 0.19 minute."
   ]
  },
  {
   "cell_type": "code",
   "execution_count": 8,
   "metadata": {},
   "outputs": [
    {
     "name": "stdout",
     "output_type": "stream",
     "text": [
      "Observation: \n",
      " Average time spent by the people who converted- 6.62 minutes \n",
      " Average time spent by people who did not convert- 3.92 minutes\n"
     ]
    }
   ],
   "source": [
    "mean_convert=df[df['converted']== 'yes'].time_spent_on_the_page.mean()\n",
    "mean_not_convert=df[df['converted']== 'no'].time_spent_on_the_page.mean()#code to find average time spent in landing page by responders\n",
    "print('Observation:', '\\n'' Average time spent by the people who converted-', round(mean_convert, 2), 'minutes','\\n',\n",
    "      'Average time spent by people who did not convert-',round(mean_not_convert, 2), 'minutes') \n"
   ]
  },
  {
   "cell_type": "code",
   "execution_count": 30,
   "metadata": {},
   "outputs": [
    {
     "name": "stdout",
     "output_type": "stream",
     "text": [
      "Observation: \n",
      " Average time spent by the control group- 4.53 minutes \n",
      " Average time spent by the treatment group- 6.22 minutes\n"
     ]
    }
   ],
   "source": [
    "mean_control=df[df['group']== 'control'].time_spent_on_the_page.mean()\n",
    "mean_treatment=df[df['group']== 'treatment'].time_spent_on_the_page.mean()#code to find average time spent by each group cohort\n",
    "print('Observation:', '\\n'' Average time spent by the control group-', round(mean_control, 2), 'minutes','\\n',\n",
    "      'Average time spent by the treatment group-',round(mean_treatment, 2), 'minutes') \n"
   ]
  },
  {
   "cell_type": "code",
   "execution_count": 9,
   "metadata": {},
   "outputs": [
    {
     "data": {
      "text/html": [
       "<div>\n",
       "<style scoped>\n",
       "    .dataframe tbody tr th:only-of-type {\n",
       "        vertical-align: middle;\n",
       "    }\n",
       "\n",
       "    .dataframe tbody tr th {\n",
       "        vertical-align: top;\n",
       "    }\n",
       "\n",
       "    .dataframe thead th {\n",
       "        text-align: right;\n",
       "    }\n",
       "</style>\n",
       "<table border=\"1\" class=\"dataframe\">\n",
       "  <thead>\n",
       "    <tr style=\"text-align: right;\">\n",
       "      <th>language_preferred</th>\n",
       "      <th>English</th>\n",
       "      <th>French</th>\n",
       "      <th>Spanish</th>\n",
       "    </tr>\n",
       "    <tr>\n",
       "      <th>converted</th>\n",
       "      <th></th>\n",
       "      <th></th>\n",
       "      <th></th>\n",
       "    </tr>\n",
       "  </thead>\n",
       "  <tbody>\n",
       "    <tr>\n",
       "      <th>no</th>\n",
       "      <td>11</td>\n",
       "      <td>19</td>\n",
       "      <td>16</td>\n",
       "    </tr>\n",
       "    <tr>\n",
       "      <th>yes</th>\n",
       "      <td>21</td>\n",
       "      <td>15</td>\n",
       "      <td>18</td>\n",
       "    </tr>\n",
       "  </tbody>\n",
       "</table>\n",
       "</div>"
      ],
      "text/plain": [
       "language_preferred  English  French  Spanish\n",
       "converted                                   \n",
       "no                       11      19       16\n",
       "yes                      21      15       18"
      ]
     },
     "execution_count": 9,
     "metadata": {},
     "output_type": "execute_result"
    }
   ],
   "source": [
    "df_lang= pd.DataFrame(pd.crosstab(df['converted'],df['language_preferred'])) #to find the conversion among different language cohorts\n",
    "df_lang"
   ]
  },
  {
   "cell_type": "markdown",
   "metadata": {},
   "source": [
    "### Observation\n",
    "We see the group is equally distributed amongst language preference"
   ]
  },
  {
   "cell_type": "code",
   "execution_count": 10,
   "metadata": {},
   "outputs": [
    {
     "data": {
      "text/html": [
       "<div>\n",
       "<style scoped>\n",
       "    .dataframe tbody tr th:only-of-type {\n",
       "        vertical-align: middle;\n",
       "    }\n",
       "\n",
       "    .dataframe tbody tr th {\n",
       "        vertical-align: top;\n",
       "    }\n",
       "\n",
       "    .dataframe thead th {\n",
       "        text-align: right;\n",
       "    }\n",
       "</style>\n",
       "<table border=\"1\" class=\"dataframe\">\n",
       "  <thead>\n",
       "    <tr style=\"text-align: right;\">\n",
       "      <th>group</th>\n",
       "      <th>control</th>\n",
       "      <th>treatment</th>\n",
       "    </tr>\n",
       "    <tr>\n",
       "      <th>converted</th>\n",
       "      <th></th>\n",
       "      <th></th>\n",
       "    </tr>\n",
       "  </thead>\n",
       "  <tbody>\n",
       "    <tr>\n",
       "      <th>no</th>\n",
       "      <td>29</td>\n",
       "      <td>17</td>\n",
       "    </tr>\n",
       "    <tr>\n",
       "      <th>yes</th>\n",
       "      <td>21</td>\n",
       "      <td>33</td>\n",
       "    </tr>\n",
       "  </tbody>\n",
       "</table>\n",
       "</div>"
      ],
      "text/plain": [
       "group      control  treatment\n",
       "converted                    \n",
       "no              29         17\n",
       "yes             21         33"
      ]
     },
     "execution_count": 10,
     "metadata": {},
     "output_type": "execute_result"
    }
   ],
   "source": [
    "pd.crosstab(df['converted'],df['group']) # code to see how many converted within the control and treatment groups"
   ]
  },
  {
   "cell_type": "markdown",
   "metadata": {},
   "source": [
    "### Observation\n",
    "We can see 21 people among control group while 33 among treatment group got converted.\n"
   ]
  },
  {
   "cell_type": "markdown",
   "metadata": {},
   "source": [
    "### Exploratory Data Analysis (EDA)"
   ]
  },
  {
   "cell_type": "markdown",
   "metadata": {},
   "source": [
    "### Univariate Analysis"
   ]
  },
  {
   "cell_type": "markdown",
   "metadata": {},
   "source": [
    "### **Question 6:** Explore all the variables and provide observations on the distributions of all the relevant variables in the dataset. (5 marks)"
   ]
  },
  {
   "cell_type": "code",
   "execution_count": 11,
   "metadata": {},
   "outputs": [
    {
     "data": {
      "image/png": "[encoded data removed]",
      "text/plain": [
       "<Figure size 432x288 with 1 Axes>"
      ]
     },
     "metadata": {
      "needs_background": "light"
     },
     "output_type": "display_data"
    }
   ],
   "source": [
    "sns.histplot(x='time_spent_on_the_page', data= df, hue='converted'); #Histogram plot"
   ]
  },
  {
   "cell_type": "markdown",
   "metadata": {},
   "source": [
    "### Observation\n",
    "Here we can see the the average time spent on the landing page is around 5 minutes."
   ]
  },
  {
   "cell_type": "code",
   "execution_count": 12,
   "metadata": {
    "scrolled": true
   },
   "outputs": [
    {
     "data": {
      "image/png": "[encoded data removed]",
      "text/plain": [
       "<Figure size 432x288 with 1 Axes>"
      ]
     },
     "metadata": {
      "needs_background": "light"
     },
     "output_type": "display_data"
    }
   ],
   "source": [
    "sns.countplot(x= 'converted', hue='landing_page', data= df); #countplot as observed"
   ]
  },
  {
   "cell_type": "markdown",
   "metadata": {},
   "source": [
    "### Observation\n",
    "Conversion rate is higher than non-conversion. Conversion via the newer landing page is seemingly higher."
   ]
  },
  {
   "cell_type": "code",
   "execution_count": 13,
   "metadata": {},
   "outputs": [
    {
     "data": {
      "image/png": "[encoded data removed]",
      "text/plain": [
       "<Figure size 432x288 with 1 Axes>"
      ]
     },
     "metadata": {
      "needs_background": "light"
     },
     "output_type": "display_data"
    }
   ],
   "source": [
    "sns.countplot(data= df, x='language_preferred', hue='converted'); #countplot to find conversion number among various lanugage cohorts"
   ]
  },
  {
   "cell_type": "markdown",
   "metadata": {},
   "source": [
    "### Observation:\n",
    "Conversion among English speaking population is higher proportionally than among French and Spanish speaking population."
   ]
  },
  {
   "cell_type": "code",
   "execution_count": 14,
   "metadata": {},
   "outputs": [
    {
     "data": {
      "image/png": "[encoded data removed]",
      "text/plain": [
       "<Figure size 466.125x360 with 1 Axes>"
      ]
     },
     "metadata": {
      "needs_background": "light"
     },
     "output_type": "display_data"
    }
   ],
   "source": [
    "sns.catplot(x='group', y= 'time_spent_on_the_page',kind='bar',hue= 'language_preferred', data= df); #catplot to observe the behavior of control and treatment group"
   ]
  },
  {
   "cell_type": "markdown",
   "metadata": {},
   "source": [
    "### Observation:\n",
    "Interestingly, we see people are spending more time in new landing page as denoted by treatment group while control group using old landing page are spending less time to decide. Also, observable is that Spanish speaking group is spending more time in old website while English speaking group is spending more time in new landing page."
   ]
  },
  {
   "cell_type": "code",
   "execution_count": 15,
   "metadata": {},
   "outputs": [
    {
     "data": {
      "image/png": "[encoded data removed]",
      "text/plain": [
       "<Figure size 418.375x360 with 1 Axes>"
      ]
     },
     "metadata": {
      "needs_background": "light"
     },
     "output_type": "display_data"
    }
   ],
   "source": [
    "sns.catplot(x='language_preferred', y= 'time_spent_on_the_page', kind= 'bar', hue='converted', data= df).set(title = 'All participants');\n",
    "#catplot to see the behavior of different language group"
   ]
  },
  {
   "cell_type": "markdown",
   "metadata": {},
   "source": [
    "### Observation:\n",
    "Conversion among all language groups is high regardless of control and treatment group, French having the highest conversion rate."
   ]
  },
  {
   "cell_type": "code",
   "execution_count": 28,
   "metadata": {},
   "outputs": [
    {
     "data": {
      "image/png": "[encoded data removed]",
      "text/plain": [
       "<Figure size 418.375x360 with 1 Axes>"
      ]
     },
     "metadata": {
      "needs_background": "light"
     },
     "output_type": "display_data"
    }
   ],
   "source": [
    "a= sns.catplot(x='language_preferred', y= 'time_spent_on_the_page', kind= 'bar', hue='converted', data= treatment_grp).set(title = 'Treatment Group');\n",
    "#catplot to see the behavior of different language group under treatment group"
   ]
  },
  {
   "cell_type": "markdown",
   "metadata": {},
   "source": [
    "### Observation:\n",
    "Under the treatment group where all participants were landed on the new page, we find English speaking group conversion rate is highest among all, albeit, that group also has a higher non-conversion behavior."
   ]
  },
  {
   "cell_type": "markdown",
   "metadata": {},
   "source": [
    "### Defining null and alternative hypotheses and deciding on test to be performed.\n",
    "'Group' and 'converted' are two categorical variables.\n",
    "We want to see if the proportion of conversion of treatment group is significantly different from the proportion of conversion of control group.\n",
    "\n",
    "> $H_0:$ Proportion of conversion of treatment group <= Proportion of conversion of control group.\n",
    "\n",
    "\n",
    "> $H_a:$ Proportion of conversion of treatment group > Proportion of conversion of control group.\n",
    "\n",
    "\n",
    "The formulated hypotheses are concerned with proportions. A test of proportions can be used to analyse the hypotheses and draw a conclusion. We shall use a Proportions Z test for this problem.\n",
    "Here, we select α = 0.05"
   ]
  },
  {
   "cell_type": "code",
   "execution_count": 17,
   "metadata": {},
   "outputs": [
    {
     "name": "stdout",
     "output_type": "stream",
     "text": [
      "Converted from control group and treatment group are 21 and 33 respectively\n",
      "Total number of participants in control and treatment group are 50 and 50 respectively\n",
      "Proportion of converted within control and treatment group are 0.42 and 0.66 respectively\n"
     ]
    }
   ],
   "source": [
    "control_conv = df[df['group']=='control'].converted.value_counts()['yes']\n",
    "treatment_conv =  df[df['group']=='treatment'].converted.value_counts()['yes']\n",
    "print('Converted from control group and treatment group are {0} and {1} respectively'.format(control_conv, treatment_conv))\n",
    "control= df.group.value_counts()['control']\n",
    "treatment= df.group.value_counts()['treatment']\n",
    "print('Total number of participants in control and treatment group are {0} and {1} respectively'. format(control, treatment))\n",
    "prop_control= control_conv/control\n",
    "prop_treatment= treatment_conv/treatment\n",
    "print('Proportion of converted within control and treatment group are {0} and {1} respectively'.format(prop_control, prop_treatment))\n",
    "\n",
    "#code to figure out the proportion of converted in each Group."
   ]
  },
  {
   "cell_type": "code",
   "execution_count": 18,
   "metadata": {},
   "outputs": [
    {
     "name": "stdout",
     "output_type": "stream",
     "text": [
      "The P-value of the test is 0.016052616408112556\n"
     ]
    }
   ],
   "source": [
    "stat, pval= proportions_ztest([control_conv, treatment_conv], [control, treatment], alternative= 'two-sided')\n",
    "print('The P-value of the test is', str(pval))\n",
    "# Z-Proportions test"
   ]
  },
  {
   "cell_type": "code",
   "execution_count": 19,
   "metadata": {},
   "outputs": [
    {
     "name": "stdout",
     "output_type": "stream",
     "text": [
      "As the p-value 0.016052616408112556 is less than the level of significance, we reject the null hypothesis.\n"
     ]
    }
   ],
   "source": [
    "# print the conclusion based on p-value\n",
    "if pval < 0.05:\n",
    "    print(f'As the p-value {pval} is less than the level of significance, we reject the null hypothesis.')\n",
    "else:\n",
    "    print(f'As the p-value {pval} is greater than the level of significance, we fail to reject the null hypothesis.')"
   ]
  },
  {
   "cell_type": "markdown",
   "metadata": {},
   "source": [
    "'Language' and 'converted' are two categorical variables. We want to see if the conversion of people depends upon their language.\n",
    "\n",
    "𝐻0:  Conversion behavior does not depend upon language spoken.\n",
    "\n",
    "𝐻𝑎:  Conversion behavior depends upon language spoken.\n",
    "\n",
    "The formulated hypotheses are concerned with dependency of conversion on different languages spoken. A test of independence can be used to analyse the hypotheses and draw a conclusion. We shall use a chi-squared test for this problem. Here, we select α = 0.05\n"
   ]
  },
  {
   "cell_type": "code",
   "execution_count": 20,
   "metadata": {},
   "outputs": [
    {
     "name": "stdout",
     "output_type": "stream",
     "text": [
      "Converted from English speaking group, Spanish speaking group and French speaking group are 21, 18 and 15 respectively\n",
      "Total participants from English speaking group, Spanish speaking group and French speaking group are 32, 34 and 34 respectively\n",
      "Proportion of conversion from English speaking group, Spanish speaking group and French speaking group are 0.66, 0.53 and 0.44 respectively\n"
     ]
    }
   ],
   "source": [
    "English_conv = df[df['language_preferred']=='English'].converted.value_counts()['yes']\n",
    "Spanish_conv = df[df['language_preferred']=='Spanish'].converted.value_counts()['yes']\n",
    "French_conv = df[df['language_preferred']=='French'].converted.value_counts()['yes']\n",
    "print('Converted from English speaking group, Spanish speaking group and French speaking group are {0}, {1} and {2} respectively'.format(English_conv, Spanish_conv, French_conv))\n",
    "\n",
    "English= df.language_preferred.value_counts()['English']\n",
    "Spanish= df.language_preferred.value_counts()['Spanish']\n",
    "French= df.language_preferred.value_counts()['French']\n",
    "print('Total participants from English speaking group, Spanish speaking group and French speaking group are {0}, {1} and {2} respectively'.format(English, Spanish, French))\n",
    "\n",
    "prop_English= round(English_conv/English,2)\n",
    "prop_Spanish= round(Spanish_conv/Spanish,2)\n",
    "prop_French= round(French_conv/French,2)\n",
    "print('Proportion of conversion from English speaking group, Spanish speaking group and French speaking group are {0}, {1} and {2} respectively'.format(prop_English, prop_Spanish, prop_French))\n",
    "\n",
    "#code to figure out the proportion of converted in each language cohort."
   ]
  },
  {
   "cell_type": "code",
   "execution_count": 21,
   "metadata": {},
   "outputs": [
    {
     "name": "stdout",
     "output_type": "stream",
     "text": [
      "The p-value is  0.21298887487543447\n"
     ]
    }
   ],
   "source": [
    "chi, p_value, dof, expected = chi2_contingency(df_lang)\n",
    "print('The p-value is ', str(p_value))\n",
    "#Chi-Squared test of independence."
   ]
  },
  {
   "cell_type": "code",
   "execution_count": 22,
   "metadata": {},
   "outputs": [
    {
     "name": "stdout",
     "output_type": "stream",
     "text": [
      "As the P-value 0.21298887487543447 is greater than the level of significance of 0.05, we fail to reject the null hypothesis.\n"
     ]
    }
   ],
   "source": [
    "# to find conclusion based on p-value\n",
    "if p_value < 0.05:\n",
    "    print(f'As the P-value {p_value} is less than the level of significance of 0.05, we reject the null hypothesis.')\n",
    "else:\n",
    "    print(f'As the P-value {p_value} is greater than the level of significance of 0.05, we fail to reject the null hypothesis.')"
   ]
  },
  {
   "cell_type": "code",
   "execution_count": 31,
   "metadata": {},
   "outputs": [],
   "source": [
    "treatment_grp =  df[df['group']=='treatment']\n",
    "Mean_time_by_english= treatment_grp[treatment_grp['language_preferred']=='English'].mean()\n",
    "Mean_time_by_spanish= treatment_grp[treatment_grp['language_preferred']=='Spanish'].mean()\n",
    "Mean_time_by_french= treatment_grp[treatment_grp['language_preferred']=='French'].mean()\n",
    "\n",
    "#code to calculate the mean time spent by each language cohort in the treatment group"
   ]
  },
  {
   "cell_type": "markdown",
   "metadata": {},
   "source": [
    "### Defining and stating the hypothesis\n",
    "Let's write the null and alternative hypothesis\n",
    "Let  𝜇1, 𝜇2, 𝜇3  be the means time spend on the new page by English, Spanish and French language speaking groups respectively.\n",
    "\n",
    "We will test the null hypothesis\n",
    "\n",
    ">𝐻0:𝜇1=𝜇2=𝜇3\n",
    "\n",
    ">against the alternative hypothesis\n",
    "\n",
    ">𝐻𝑎:  At least one group of language is different from the rest."
   ]
  },
  {
   "cell_type": "code",
   "execution_count": 24,
   "metadata": {},
   "outputs": [
    {
     "data": {
      "image/png": "[encoded data removed]",
      "text/plain": [
       "<Figure size 432x432 with 1 Axes>"
      ]
     },
     "metadata": {
      "needs_background": "light"
     },
     "output_type": "display_data"
    }
   ],
   "source": [
    "treatment_grp.groupby('language_preferred')['time_spent_on_the_page'].mean()\n",
    "\n",
    "fig, ax = plt.subplots(figsize = (6,6))\n",
    "a = sns.boxplot(x= \"language_preferred\", y = 'time_spent_on_the_page' , data = treatment_grp, hue = 'language_preferred')\n",
    "a.set_title(\"Time spent on new page (3 languages)\", fontsize=15)\n",
    "plt.show()\n",
    "#code to draw boxplot of average time spent by each language group"
   ]
  },
  {
   "cell_type": "markdown",
   "metadata": {},
   "source": [
    "### Shapiro-Wilk’s test\n",
    "\n",
    "We will test the null hypothesis\n",
    "\n",
    ">$H_0:$ Languages spoken follows a normal distribution against\n",
    "\n",
    "against the alternative hypothesis\n",
    "\n",
    ">$H_a:$ Languages spoken does not follow a normal distribution"
   ]
  },
  {
   "cell_type": "code",
   "execution_count": 25,
   "metadata": {},
   "outputs": [
    {
     "name": "stdout",
     "output_type": "stream",
     "text": [
      "The p-value is 0.8040016293525696\n"
     ]
    }
   ],
   "source": [
    "# Assumption 1: Normality\n",
    "# import the required function\n",
    "from scipy import stats\n",
    "\n",
    "# find the p-value\n",
    "w, p_value = stats.shapiro(treatment_grp['time_spent_on_the_page']) \n",
    "print('The p-value is', p_value)"
   ]
  },
  {
   "cell_type": "markdown",
   "metadata": {},
   "source": [
    "Since p-value of the test is very large, we fail to reject the null hypothesis that the response follows the normal distribution."
   ]
  },
  {
   "cell_type": "markdown",
   "metadata": {},
   "source": [
    "### Levene’s test\n",
    "\n",
    "We will test the null hypothesis\n",
    "\n",
    ">$H_0$: All the population variances are equal\n",
    "\n",
    "against the alternative hypothesis\n",
    "\n",
    ">$H_a$: At least one variance is different from the rest"
   ]
  },
  {
   "cell_type": "code",
   "execution_count": 26,
   "metadata": {},
   "outputs": [
    {
     "name": "stdout",
     "output_type": "stream",
     "text": [
      "The p-value is 0.46711357711340173\n"
     ]
    }
   ],
   "source": [
    "#Assumption 2: Homogeneity of Variance\n",
    "#import the required function\n",
    "from scipy.stats import levene\n",
    "statistic, p_value = levene( treatment_grp['time_spent_on_the_page'][treatment_grp['language_preferred']==\"English\"], \n",
    "                                   treatment_grp['time_spent_on_the_page'][treatment_grp['language_preferred']==\"Spanish\"], \n",
    "                                   treatment_grp['time_spent_on_the_page'][treatment_grp['language_preferred']==\"French\"])\n",
    "\n",
    "print('The p-value is', p_value)"
   ]
  },
  {
   "cell_type": "markdown",
   "metadata": {},
   "source": [
    "Since p-value is significantly larger than 0.05, we fail to reject the null hypothesis."
   ]
  },
  {
   "cell_type": "markdown",
   "metadata": {},
   "source": [
    "### Let's test whether the assumptions are satisfied or not\n",
    "\n",
    "* The populations are normally distributed - Yes, the normality assumption is verified using the Shapiro-Wilk’s test.\n",
    "* Samples are independent simple random samples - Yes, we are informed that the collected sample is a simple random sample.\n",
    "* Population variances are equal - Yes, the homogeneity of variance assumption is verified using the Levene's test.\n",
    "\n"
   ]
  },
  {
   "cell_type": "markdown",
   "metadata": {},
   "source": [
    "### One way ANOVA test"
   ]
  },
  {
   "cell_type": "code",
   "execution_count": 27,
   "metadata": {},
   "outputs": [
    {
     "name": "stdout",
     "output_type": "stream",
     "text": [
      "The p-value is 0.43204138694325955\n"
     ]
    }
   ],
   "source": [
    "#import the required function\n",
    "from scipy.stats import f_oneway\n",
    "\n",
    "# perform one-way anova test\n",
    "test_stat, p_value = f_oneway(treatment_grp.loc[treatment_grp['language_preferred'] == 'English', 'time_spent_on_the_page'],\n",
    "                              treatment_grp.loc[treatment_grp['language_preferred'] == 'Spanish', 'time_spent_on_the_page'],\n",
    "                              treatment_grp.loc[treatment_grp['language_preferred'] == 'French', 'time_spent_on_the_page'])\n",
    "print('The p-value is ' + str(p_value))"
   ]
  },
  {
   "cell_type": "markdown",
   "metadata": {},
   "source": [
    "Since P-value is significantly greater than 0.05, we fail to reject the null hypothesis."
   ]
  },
  {
   "cell_type": "markdown",
   "metadata": {},
   "source": [
    "### Conclusion and Recommendations"
   ]
  },
  {
   "cell_type": "markdown",
   "metadata": {},
   "source": [
    "#### Key Insights:\n",
    " - Based on the different hypothesis testing performed above, we can tell the new landing page is fairly successful in converting the visitors.\n",
    " - On testing whether time spent on the new landing page by different language speaking groups is different, we found that there is not significant difference on that front. This hypothesis testing was performed using one way ANOVA test to understand if there was any difference between average time spent by different categorical groups.\n",
    " - The p-value 0.016 for test of proportions of conversion is less than 0.05 significance level on both sides and also less than 0.025 on both sides indicating that people have converted more through new landing page than through old landing page.\n",
    " - We see that people who have converted spent more time on the page than who did not regardless of new or old page."
   ]
  }
 ],
 "metadata": {
  "kernelspec": {
   "display_name": "Python 3",
   "language": "python",
   "name": "python3"
  },
  "language_info": {
   "codemirror_mode": {
    "name": "ipython",
    "version": 3
   },
   "file_extension": ".py",
   "mimetype": "text/x-python",
   "name": "python",
   "nbconvert_exporter": "python",
   "pygments_lexer": "ipython3",
   "version": "3.8.8"
  }
 },
 "nbformat": 4,
 "nbformat_minor": 4
}
